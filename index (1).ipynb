{
 "cells": [
  {
   "cell_type": "markdown",
   "metadata": {},
   "source": [
    "# Website A/B Testing - Lab\n",
    "\n",
    "## Introduction\n",
    "\n",
    "In this lab, you'll get another chance to practice your skills at conducting a full A/B test analysis. It will also be a chance to practice your data exploration and processing skills! The scenario you'll be investigating is data collected from the homepage of a music app page for audacity.\n",
    "\n",
    "## Objectives\n",
    "\n",
    "You will be able to:\n",
    "* Analyze the data from a website A/B test to draw relevant conclusions\n",
    "* Explore and analyze web action data"
   ]
  },
  {
   "cell_type": "markdown",
   "metadata": {},
   "source": [
    "## Exploratory Analysis\n",
    "\n",
    "Start by loading in the dataset stored in the file 'homepage_actions.csv'. Then conduct an exploratory analysis to get familiar with the data."
   ]
  },
  {
   "cell_type": "markdown",
   "metadata": {},
   "source": [
    "> Hints:\n",
    "    * Start investigating the id column:\n",
    "        * How many viewers also clicked?\n",
    "        * Are there any anomalies with the data; did anyone click who didn't view?\n",
    "        * Is there any overlap between the control and experiment groups? \n",
    "            * If so, how do you plan to account for this in your experimental design?"
   ]
  },
  {
   "cell_type": "code",
   "execution_count": 1,
   "metadata": {},
   "outputs": [
    {
     "name": "stdout",
     "output_type": "stream",
     "text": [
      "                    timestamp      id       group action\n",
      "0  2016-09-24 17:42:27.839496  804196  experiment   view\n",
      "1  2016-09-24 19:19:03.542569  434745  experiment   view\n",
      "2  2016-09-24 19:36:00.944135  507599  experiment   view\n",
      "3  2016-09-24 19:59:02.646620  671993     control   view\n",
      "4  2016-09-24 20:26:14.466886  536734  experiment   view\n",
      "Number of viewers: 6328\n",
      "Number of clickers: 1860\n",
      "Number of viewers who also clicked: 1860\n",
      "Number of clicks without views: 0\n",
      "Number of users in both control and experiment groups: 0\n"
     ]
    }
   ],
   "source": [
    "#Your code here\n",
    "import pandas as pd\n",
    "\n",
    "# Load the dataset\n",
    "data = pd.read_csv('homepage_actions.csv')\n",
    "\n",
    "# Display the first few rows of the dataset to get an overview\n",
    "print(data.head())\n",
    "\n",
    "# Check the basic statistics of the 'id' column to see how many viewers also clicked\n",
    "viewers = data[data['action'] == 'view']['id'].nunique()\n",
    "clickers = data[data['action'] == 'click']['id'].nunique()\n",
    "overlap = data[(data['action'] == 'view') & (data['id'].isin(data[data['action'] == 'click']['id']))]['id'].nunique()\n",
    "\n",
    "print(f\"Number of viewers: {viewers}\")\n",
    "print(f\"Number of clickers: {clickers}\")\n",
    "print(f\"Number of viewers who also clicked: {overlap}\")\n",
    "\n",
    "# Check for anomalies: Did anyone click who didn't view?\n",
    "click_without_view = data[(data['action'] == 'click') & (~data['id'].isin(data[data['action'] == 'view']['id']))]\n",
    "print(f\"Number of clicks without views: {click_without_view.shape[0]}\")\n",
    "\n",
    "# Check for overlap between control and experiment groups\n",
    "control_group = data[data['group'] == 'control']['id'].unique()\n",
    "experiment_group = data[data['group'] == 'experiment']['id'].unique()\n",
    "overlap_group = set(control_group).intersection(experiment_group)\n",
    "\n",
    "print(f\"Number of users in both control and experiment groups: {len(overlap_group)}\")\n"
   ]
  },
  {
   "cell_type": "markdown",
   "metadata": {},
   "source": [
    "## Conduct a Statistical Test\n",
    "\n",
    "Conduct a statistical test to determine whether the experimental homepage was more effective than that of the control group."
   ]
  },
  {
   "cell_type": "code",
   "execution_count": 2,
   "metadata": {},
   "outputs": [
    {
     "name": "stdout",
     "output_type": "stream",
     "text": [
      "Reject the null hypothesis. The experimental homepage is more effective than the control group.\n"
     ]
    }
   ],
   "source": [
    "#Your code here\n",
    "import pandas as pd\n",
    "import scipy.stats as stats\n",
    "\n",
    "# Load the dataset\n",
    "data = pd.read_csv('homepage_actions.csv')\n",
    "\n",
    "# Calculate the click-through rates for experimental and control groups\n",
    "experimental_clicks = data[(data['group'] == 'experiment') & (data['action'] == 'click')]['id'].nunique()\n",
    "control_clicks = data[(data['group'] == 'control') & (data['action'] == 'click')]['id'].nunique()\n",
    "\n",
    "experimental_total = data[data['group'] == 'experiment']['id'].nunique()\n",
    "control_total = data[data['group'] == 'control']['id'].nunique()\n",
    "\n",
    "p_exp = experimental_clicks / experimental_total\n",
    "p_ctrl = control_clicks / control_total\n",
    "\n",
    "# Perform a z-test for proportions\n",
    "p_pool = (experimental_clicks + control_clicks) / (experimental_total + control_total)\n",
    "z_score = (p_exp - p_ctrl) / ((p_pool * (1 - p_pool) * (1 / experimental_total + 1 / control_total)) ** 0.5)\n",
    "p_value = 1 - stats.norm.cdf(z_score)\n",
    "\n",
    "# Set the significance level (alpha)\n",
    "alpha = 0.05\n",
    "\n",
    "# Compare p-value to alpha\n",
    "if p_value < alpha:\n",
    "    print(\"Reject the null hypothesis. The experimental homepage is more effective than the control group.\")\n",
    "else:\n",
    "    print(\"Fail to reject the null hypothesis. There is no significant difference between the groups.\")\n"
   ]
  },
  {
   "cell_type": "markdown",
   "metadata": {},
   "source": [
    "## Verifying Results\n",
    "\n",
    "One sensible formulation of the data to answer the hypothesis test above would be to create a binary variable representing each individual in the experiment and control group. This binary variable would represent whether or not that individual clicked on the homepage; 1 for they did and 0 if they did not. \n",
    "\n",
    "The variance for the number of successes in a sample of a binomial variable with n observations is given by:\n",
    "\n",
    "## $n\\bullet p (1-p)$\n",
    "\n",
    "Given this, perform 3 steps to verify the results of your statistical test:\n",
    "1. Calculate the expected number of clicks for the experiment group, if it had the same click-through rate as that of the control group. \n",
    "2. Calculate the number of standard deviations that the actual number of clicks was from this estimate. \n",
    "3. Finally, calculate a p-value using the normal distribution based on this z-score."
   ]
  },
  {
   "cell_type": "code",
   "execution_count": 3,
   "metadata": {},
   "outputs": [
    {
     "name": "stdout",
     "output_type": "stream",
     "text": [
      "Reject the null hypothesis. The experimental homepage is more effective than the control group.\n"
     ]
    }
   ],
   "source": [
    "import pandas as pd\n",
    "import scipy.stats as stats\n",
    "\n",
    "# Load the dataset\n",
    "data = pd.read_csv('homepage_actions.csv')\n",
    "\n",
    "# Calculate the click-through rates for experimental and control groups\n",
    "experimental_clicks = data[(data['group'] == 'experiment') & (data['action'] == 'click')]['id'].nunique()\n",
    "control_clicks = data[(data['group'] == 'control') & (data['action'] == 'click')]['id'].nunique()\n",
    "\n",
    "experimental_total = data[data['group'] == 'experiment']['id'].nunique()\n",
    "control_total = data[data['group'] == 'control']['id'].nunique()\n",
    "\n",
    "p_exp = experimental_clicks / experimental_total\n",
    "p_ctrl = control_clicks / control_total\n",
    "\n",
    "# Calculate the expected number of clicks for the experiment group\n",
    "expected_clicks_exp = p_ctrl * experimental_total\n",
    "\n",
    "# Calculate the variance for the number of successes in a binomial variable\n",
    "variance = experimental_total * p_ctrl * (1 - p_ctrl)\n",
    "\n",
    "# Calculate the standard deviation\n",
    "std_dev = variance ** 0.5\n",
    "\n",
    "# Calculate the z-score\n",
    "z_score = (experimental_clicks - expected_clicks_exp) / std_dev\n",
    "\n",
    "# Calculate a two-tailed p-value using the normal distribution\n",
    "p_value = 2 * (1 - stats.norm.cdf(abs(z_score)))\n",
    "\n",
    "# Set the significance level (alpha)\n",
    "alpha = 0.05\n",
    "\n",
    "# Compare p-value to alpha\n",
    "if p_value < alpha:\n",
    "    print(\"Reject the null hypothesis. The experimental homepage is more effective than the control group.\")\n",
    "else:\n",
    "    print(\"Fail to reject the null hypothesis. There is no significant difference between the groups.\")\n"
   ]
  },
  {
   "cell_type": "markdown",
   "metadata": {},
   "source": [
    "## Summary\n",
    "\n",
    "In this lab, you continued to get more practice designing and conducting AB tests. This required additional work preprocessing and formulating the initial problem in a suitable manner. Additionally, you also saw how to verify results, strengthening your knowledge of binomial variables, and reviewing initial statistical concepts of the central limit theorem, standard deviation, z-scores, and their accompanying p-values."
   ]
  },
  {
   "cell_type": "code",
   "execution_count": null,
   "metadata": {},
   "outputs": [],
   "source": []
  }
 ],
 "metadata": {
  "kernelspec": {
   "display_name": "Python 3",
   "language": "python",
   "name": "python3"
  },
  "language_info": {
   "codemirror_mode": {
    "name": "ipython",
    "version": 3
   },
   "file_extension": ".py",
   "mimetype": "text/x-python",
   "name": "python",
   "nbconvert_exporter": "python",
   "pygments_lexer": "ipython3",
   "version": "3.8.5"
  }
 },
 "nbformat": 4,
 "nbformat_minor": 2
}
